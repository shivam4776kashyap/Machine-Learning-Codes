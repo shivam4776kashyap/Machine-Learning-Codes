{
 "cells": [
  {
   "cell_type": "code",
   "execution_count": 1,
   "id": "f8275148-f5a3-47a1-b7af-a20fee1c9c34",
   "metadata": {},
   "outputs": [],
   "source": [
    "import pandas as pd"
   ]
  },
  {
   "cell_type": "code",
   "execution_count": 2,
   "id": "12e972c6-819e-4973-af60-ca171f298355",
   "metadata": {},
   "outputs": [
    {
     "data": {
      "text/plain": [
       "'2.1.1'"
      ]
     },
     "execution_count": 2,
     "metadata": {},
     "output_type": "execute_result"
    }
   ],
   "source": [
    "pd.__version__"
   ]
  },
  {
   "cell_type": "code",
   "execution_count": 3,
   "id": "d8d78837-8768-4956-9958-b88bcfefb23d",
   "metadata": {},
   "outputs": [
    {
     "name": "stdout",
     "output_type": "stream",
     "text": [
      "[10, 11, 12, 13, 14, 15]\n"
     ]
    }
   ],
   "source": [
    "lst=[10,11,12,13,14,15]\n",
    "print(lst)"
   ]
  },
  {
   "cell_type": "code",
   "execution_count": 9,
   "id": "1862869e-35ca-47b4-9360-878614535dc2",
   "metadata": {},
   "outputs": [
    {
     "name": "stdout",
     "output_type": "stream",
     "text": [
      "0    10\n",
      "1    11\n",
      "2    12\n",
      "3    13\n",
      "4    14\n",
      "5    15\n",
      "dtype: int64\n",
      "<class 'pandas.core.series.Series'>\n"
     ]
    }
   ],
   "source": [
    "series=pd.Series(lst)\n",
    "print(series)\n",
    "print(type(series))"
   ]
  },
  {
   "cell_type": "code",
   "execution_count": 10,
   "id": "f663f277-4180-4d56-bf33-161e7902595d",
   "metadata": {},
   "outputs": [
    {
     "name": "stdout",
     "output_type": "stream",
     "text": [
      "0    3\n",
      "1    4\n",
      "2    5\n",
      "3    6\n",
      "4    7\n",
      "dtype: int64\n"
     ]
    }
   ],
   "source": [
    "series1=pd.Series([3,4,5,6,7])\n",
    "print(series1)"
   ]
  },
  {
   "cell_type": "code",
   "execution_count": 12,
   "id": "793341c6-65ac-4106-bef8-a1258e468914",
   "metadata": {},
   "outputs": [
    {
     "data": {
      "text/plain": [
       "Series([], dtype: object)"
      ]
     },
     "execution_count": 12,
     "metadata": {},
     "output_type": "execute_result"
    }
   ],
   "source": [
    "series2=pd.Series([])\n",
    "series2"
   ]
  },
  {
   "cell_type": "code",
   "execution_count": 15,
   "id": "5828331a-00e8-45b7-a4b1-1c69a6a17560",
   "metadata": {},
   "outputs": [
    {
     "data": {
      "text/plain": [
       "7    a\n",
       "6    b\n",
       "5    c\n",
       "4    d\n",
       "3    e\n",
       "2    f\n",
       "1    g\n",
       "dtype: object"
      ]
     },
     "execution_count": 15,
     "metadata": {},
     "output_type": "execute_result"
    }
   ],
   "source": [
    "series3=pd.Series(['a','b','c','d','e','f','g'], index=[7,6,5,4,3,2,1])\n",
    "series3"
   ]
  },
  {
   "cell_type": "code",
   "execution_count": 17,
   "id": "0ea343aa-84d3-4811-af6c-7699180f372d",
   "metadata": {},
   "outputs": [
    {
     "data": {
      "text/plain": [
       "a    4\n",
       "b    3\n",
       "c    2\n",
       "d    1\n",
       "Name: Shivam, dtype: int64"
      ]
     },
     "execution_count": 17,
     "metadata": {},
     "output_type": "execute_result"
    }
   ],
   "source": [
    "series3=pd.Series([4,3,2,1],index=['a','b','c','d'], name='Shivam')\n",
    "series3"
   ]
  },
  {
   "cell_type": "code",
   "execution_count": 18,
   "id": "dc68ade5-2255-4e70-a8e0-6b1302dfd100",
   "metadata": {},
   "outputs": [
    {
     "data": {
      "text/plain": [
       "0    3\n",
       "dtype: int64"
      ]
     },
     "execution_count": 18,
     "metadata": {},
     "output_type": "execute_result"
    }
   ],
   "source": [
    "scalar_series=pd.Series(3)\n",
    "scalar_series"
   ]
  },
  {
   "cell_type": "code",
   "execution_count": 19,
   "id": "1e0c19f1-a718-4726-a0a7-77706bdde8b7",
   "metadata": {},
   "outputs": [
    {
     "data": {
      "text/plain": [
       "2    9\n",
       "3    9\n",
       "4    9\n",
       "dtype: int64"
      ]
     },
     "execution_count": 19,
     "metadata": {},
     "output_type": "execute_result"
    }
   ],
   "source": [
    "scalar_series=pd.Series(9,index=[2,3,4])\n",
    "scalar_series"
   ]
  },
  {
   "cell_type": "code",
   "execution_count": 21,
   "id": "8c742ca6-48cc-4c63-9633-c6709d529845",
   "metadata": {},
   "outputs": [
    {
     "data": {
      "text/plain": [
       "a     1\n",
       "b    13\n",
       "c     3\n",
       "dtype: int64"
      ]
     },
     "execution_count": 21,
     "metadata": {},
     "output_type": "execute_result"
    }
   ],
   "source": [
    "# CREATING PANDAS SERIES USING DICTIONARY\n",
    "ser1=pd.Series({'a':1,'b':13,'c':3})# this a,b,c are indexes and 1, 13, and 3 are my values of this indexes\n",
    "ser1"
   ]
  },
  {
   "cell_type": "code",
   "execution_count": 37,
   "id": "2c453a05-71bc-4a67-af01-be3c18d08bf9",
   "metadata": {},
   "outputs": [
    {
     "data": {
      "text/plain": [
       "10"
      ]
     },
     "execution_count": 37,
     "metadata": {},
     "output_type": "execute_result"
    }
   ],
   "source": [
    "ser1=pd.Series({'Shivam':13,'Ankush':2,'Sahil':10,'Vikash':14,'Preeti':7})\n",
    "# ser1\n",
    "ser1.iloc[2]\n"
   ]
  },
  {
   "cell_type": "code",
   "execution_count": 36,
   "id": "16857df9-7b17-47db-bb71-37b8e2d0e070",
   "metadata": {},
   "outputs": [
    {
     "data": {
      "text/plain": [
       "Shivam    13\n",
       "Ankush     2\n",
       "Sahil     10\n",
       "Vikash    14\n",
       "dtype: int64"
      ]
     },
     "execution_count": 36,
     "metadata": {},
     "output_type": "execute_result"
    }
   ],
   "source": [
    "ser1.iloc[0:4]"
   ]
  },
  {
   "cell_type": "code",
   "execution_count": 38,
   "id": "6bbe363b-8000-44d1-8e0c-10f657e1b2b4",
   "metadata": {},
   "outputs": [
    {
     "data": {
      "text/plain": [
       "14"
      ]
     },
     "execution_count": 38,
     "metadata": {},
     "output_type": "execute_result"
    }
   ],
   "source": [
    "max(ser1)"
   ]
  },
  {
   "cell_type": "code",
   "execution_count": 39,
   "id": "9cc88836-de60-4c1e-897f-37c5ef5644b8",
   "metadata": {},
   "outputs": [
    {
     "data": {
      "text/plain": [
       "2"
      ]
     },
     "execution_count": 39,
     "metadata": {},
     "output_type": "execute_result"
    }
   ],
   "source": [
    "min(ser1)"
   ]
  },
  {
   "cell_type": "code",
   "execution_count": 42,
   "id": "f4d4f857-4cab-4043-8d3d-70ea292c6040",
   "metadata": {},
   "outputs": [
    {
     "data": {
      "text/plain": [
       "46"
      ]
     },
     "execution_count": 42,
     "metadata": {},
     "output_type": "execute_result"
    }
   ],
   "source": [
    "sum(ser1)"
   ]
  },
  {
   "cell_type": "code",
   "execution_count": 43,
   "id": "ec1180df-a2a2-4bd0-ac7b-396d36ba318e",
   "metadata": {},
   "outputs": [
    {
     "data": {
      "text/plain": [
       "g    [1, 2, 3]\n",
       "h    [4, 5, 6]\n",
       "i    [7, 8, 9]\n",
       "dtype: object"
      ]
     },
     "execution_count": 43,
     "metadata": {},
     "output_type": "execute_result"
    }
   ],
   "source": [
    "ser2=pd.Series({'g':[1,2,3],'h':[4,5,6],'i':[7,8,9]})\n",
    "ser2"
   ]
  },
  {
   "cell_type": "code",
   "execution_count": null,
   "id": "9b089c73-7eab-4f87-9a3b-6dd8dc0652a7",
   "metadata": {},
   "outputs": [],
   "source": []
  }
 ],
 "metadata": {
  "kernelspec": {
   "display_name": "Python 3 (ipykernel)",
   "language": "python",
   "name": "python3"
  },
  "language_info": {
   "codemirror_mode": {
    "name": "ipython",
    "version": 3
   },
   "file_extension": ".py",
   "mimetype": "text/x-python",
   "name": "python",
   "nbconvert_exporter": "python",
   "pygments_lexer": "ipython3",
   "version": "3.11.7"
  }
 },
 "nbformat": 4,
 "nbformat_minor": 5
}

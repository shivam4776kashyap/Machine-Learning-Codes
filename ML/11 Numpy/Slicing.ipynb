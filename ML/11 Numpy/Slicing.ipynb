{
 "cells": [
  {
   "cell_type": "code",
   "execution_count": 5,
   "id": "1858b290-e3e9-4baf-acaa-8c03025cd31c",
   "metadata": {},
   "outputs": [
    {
     "data": {
      "text/plain": [
       "array([1, 2, 3, 4, 5, 6, 7, 8, 9])"
      ]
     },
     "execution_count": 5,
     "metadata": {},
     "output_type": "execute_result"
    }
   ],
   "source": [
    "import numpy as np\n",
    "a= np.arange(1,10)\n",
    "a"
   ]
  },
  {
   "cell_type": "code",
   "execution_count": 6,
   "id": "ae43a67e-aa3c-42dc-9d19-802570c9dff2",
   "metadata": {},
   "outputs": [
    {
     "data": {
      "text/plain": [
       "array([10,  9,  8,  7,  6,  5,  4,  3,  2])"
      ]
     },
     "execution_count": 6,
     "metadata": {},
     "output_type": "execute_result"
    }
   ],
   "source": [
    "a=np.arange(10,1,-1)\n",
    "a"
   ]
  },
  {
   "cell_type": "code",
   "execution_count": 7,
   "id": "23a335d5-bc58-4370-b5f1-02a17dd9809e",
   "metadata": {},
   "outputs": [
    {
     "data": {
      "text/plain": [
       "array([], dtype=int32)"
      ]
     },
     "execution_count": 7,
     "metadata": {},
     "output_type": "execute_result"
    }
   ],
   "source": [
    "a=np.arange(10,1)\n",
    "a"
   ]
  },
  {
   "cell_type": "code",
   "execution_count": 17,
   "id": "a41eb996-6500-43ae-bfb9-34c62b8493f6",
   "metadata": {},
   "outputs": [
    {
     "name": "stdout",
     "output_type": "stream",
     "text": [
      "[ 1  2  3  4  5  6  7  8  9 10 11 12 13 14 15 16 17 18]\n",
      "[[ 1  2  3]\n",
      " [ 4  5  6]\n",
      " [ 7  8  9]\n",
      " [10 11 12]\n",
      " [13 14 15]\n",
      " [16 17 18]]\n"
     ]
    }
   ],
   "source": [
    "a=np.arange(1,19)\n",
    "print(a)\n",
    "b=a.reshape(6,3)\n",
    "print(b)\n"
   ]
  },
  {
   "cell_type": "code",
   "execution_count": 19,
   "id": "5aeb0961-795c-49eb-b2c3-d5b1ef98341f",
   "metadata": {},
   "outputs": [
    {
     "data": {
      "text/plain": [
       "array([1, 2, 3, 4, 5, 6, 7, 8, 9])"
      ]
     },
     "execution_count": 19,
     "metadata": {},
     "output_type": "execute_result"
    }
   ],
   "source": [
    "a=np.arange(1,10)\n",
    "b=a.reshape(3,3)\n",
    "c=b.ravel()\n",
    "c"
   ]
  },
  {
   "cell_type": "code",
   "execution_count": 20,
   "id": "78382afa-e39e-4bc5-aea1-019ef160e165",
   "metadata": {},
   "outputs": [
    {
     "data": {
      "text/plain": [
       "array([[[ 1,  2],\n",
       "        [ 3,  4]],\n",
       "\n",
       "       [[ 5,  6],\n",
       "        [ 7,  8]],\n",
       "\n",
       "       [[ 9,  0],\n",
       "        [10, 11]]])"
      ]
     },
     "execution_count": 20,
     "metadata": {},
     "output_type": "execute_result"
    }
   ],
   "source": [
    "arrayx=np.array([[[1,2],[3,4]],\n",
    "                 [[5,6],[7,8]],\n",
    "                 [[9,0],[10,11]]])\n",
    "arrayx"
   ]
  },
  {
   "cell_type": "code",
   "execution_count": 21,
   "id": "0543b9ef-1c40-421c-8d6e-84663e756b87",
   "metadata": {},
   "outputs": [
    {
     "data": {
      "text/plain": [
       "array([[1, 2],\n",
       "       [3, 4]])"
      ]
     },
     "execution_count": 21,
     "metadata": {},
     "output_type": "execute_result"
    }
   ],
   "source": [
    "arrayx[0]"
   ]
  },
  {
   "cell_type": "code",
   "execution_count": 22,
   "id": "789686a0-9e34-45fc-8a04-fb73bcc68299",
   "metadata": {},
   "outputs": [
    {
     "data": {
      "text/plain": [
       "array([1, 2])"
      ]
     },
     "execution_count": 22,
     "metadata": {},
     "output_type": "execute_result"
    }
   ],
   "source": [
    "arrayx[0,0]"
   ]
  },
  {
   "cell_type": "code",
   "execution_count": 23,
   "id": "814331ed-1a8c-4e82-b020-11b72c3b96f5",
   "metadata": {},
   "outputs": [
    {
     "data": {
      "text/plain": [
       "1"
      ]
     },
     "execution_count": 23,
     "metadata": {},
     "output_type": "execute_result"
    }
   ],
   "source": [
    "arrayx[0,0,0]"
   ]
  },
  {
   "cell_type": "code",
   "execution_count": 25,
   "id": "091d2922-da52-4669-8b92-560bca1a9a08",
   "metadata": {},
   "outputs": [
    {
     "data": {
      "text/plain": [
       "array([[[1, 2],\n",
       "        [3, 4]]])"
      ]
     },
     "execution_count": 25,
     "metadata": {},
     "output_type": "execute_result"
    }
   ],
   "source": [
    "arrayx[0:1]"
   ]
  },
  {
   "cell_type": "code",
   "execution_count": 35,
   "id": "63bd13cb-736e-4cb7-b367-a945a621cd3e",
   "metadata": {},
   "outputs": [
    {
     "data": {
      "text/plain": [
       "array([[1, 2],\n",
       "       [5, 6]])"
      ]
     },
     "execution_count": 35,
     "metadata": {},
     "output_type": "execute_result"
    }
   ],
   "source": [
    "arrayx[0:2,0]"
   ]
  },
  {
   "cell_type": "code",
   "execution_count": 27,
   "id": "fdd9bbe8-adb5-4e37-8bec-561aca606352",
   "metadata": {},
   "outputs": [
    {
     "data": {
      "text/plain": [
       "array([[[5, 6],\n",
       "        [7, 8]]])"
      ]
     },
     "execution_count": 27,
     "metadata": {},
     "output_type": "execute_result"
    }
   ],
   "source": [
    "arrayx[1:2]"
   ]
  },
  {
   "cell_type": "code",
   "execution_count": 28,
   "id": "4d66fb36-6c51-40d2-83b6-7f55f0e6f2e3",
   "metadata": {},
   "outputs": [
    {
     "data": {
      "text/plain": [
       "array([[[1, 2],\n",
       "        [3, 4]],\n",
       "\n",
       "       [[5, 6],\n",
       "        [7, 8]]])"
      ]
     },
     "execution_count": 28,
     "metadata": {},
     "output_type": "execute_result"
    }
   ],
   "source": [
    "arrayx[:2]"
   ]
  },
  {
   "cell_type": "code",
   "execution_count": 29,
   "id": "8172a7fb-b413-4cb0-9d99-617cec5065ac",
   "metadata": {},
   "outputs": [
    {
     "data": {
      "text/plain": [
       "array([[1, 2]])"
      ]
     },
     "execution_count": 29,
     "metadata": {},
     "output_type": "execute_result"
    }
   ],
   "source": [
    "arrayx[0:1,0]"
   ]
  },
  {
   "cell_type": "code",
   "execution_count": 30,
   "id": "2687809b-e5e6-4215-8ada-b2c229075393",
   "metadata": {},
   "outputs": [
    {
     "data": {
      "text/plain": [
       "array([1])"
      ]
     },
     "execution_count": 30,
     "metadata": {},
     "output_type": "execute_result"
    }
   ],
   "source": [
    "arrayx[0:1,0,0]"
   ]
  },
  {
   "cell_type": "code",
   "execution_count": 33,
   "id": "b456fcf8-60ae-4e21-8642-3524a586cd8c",
   "metadata": {},
   "outputs": [
    {
     "data": {
      "text/plain": [
       "array([2, 6])"
      ]
     },
     "execution_count": 33,
     "metadata": {},
     "output_type": "execute_result"
    }
   ],
   "source": [
    "arrayx[:2,0,1]"
   ]
  },
  {
   "cell_type": "code",
   "execution_count": 34,
   "id": "2873067b-c273-4c65-9ba0-4af29d46ccba",
   "metadata": {},
   "outputs": [
    {
     "data": {
      "text/plain": [
       "array([[ 7,  8],\n",
       "       [10, 11]])"
      ]
     },
     "execution_count": 34,
     "metadata": {},
     "output_type": "execute_result"
    }
   ],
   "source": [
    "arrayx[1: ,1]"
   ]
  },
  {
   "cell_type": "code",
   "execution_count": 36,
   "id": "762a5b32-5fa0-4941-b881-f36a09737506",
   "metadata": {},
   "outputs": [
    {
     "data": {
      "text/plain": [
       "array([1, 5])"
      ]
     },
     "execution_count": 36,
     "metadata": {},
     "output_type": "execute_result"
    }
   ],
   "source": [
    "arrayx[0:2,0,0]"
   ]
  },
  {
   "cell_type": "code",
   "execution_count": 37,
   "id": "8a22d2d9-c67f-42f8-ae13-96e132b2128b",
   "metadata": {},
   "outputs": [
    {
     "data": {
      "text/plain": [
       "array([[ 7,  8],\n",
       "       [10, 11]])"
      ]
     },
     "execution_count": 37,
     "metadata": {},
     "output_type": "execute_result"
    }
   ],
   "source": [
    "arrayx[1: ,1]"
   ]
  },
  {
   "cell_type": "code",
   "execution_count": 38,
   "id": "782597f2-7059-41be-881c-bc26a0998f6e",
   "metadata": {},
   "outputs": [
    {
     "data": {
      "text/plain": [
       "array([ 7, 10])"
      ]
     },
     "execution_count": 38,
     "metadata": {},
     "output_type": "execute_result"
    }
   ],
   "source": [
    "arrayx[1: ,1,0]"
   ]
  },
  {
   "cell_type": "code",
   "execution_count": 44,
   "id": "2123e67a-14a5-4871-9161-06475b59e408",
   "metadata": {},
   "outputs": [
    {
     "data": {
      "text/plain": [
       "array([[ 3,  4],\n",
       "       [ 7,  8],\n",
       "       [10, 11]])"
      ]
     },
     "execution_count": 44,
     "metadata": {},
     "output_type": "execute_result"
    }
   ],
   "source": [
    "arrayx[ : ,1]"
   ]
  },
  {
   "cell_type": "code",
   "execution_count": null,
   "id": "453041f8-5bbf-4487-b337-c247090272d7",
   "metadata": {},
   "outputs": [],
   "source": []
  }
 ],
 "metadata": {
  "kernelspec": {
   "display_name": "Python 3 (ipykernel)",
   "language": "python",
   "name": "python3"
  },
  "language_info": {
   "codemirror_mode": {
    "name": "ipython",
    "version": 3
   },
   "file_extension": ".py",
   "mimetype": "text/x-python",
   "name": "python",
   "nbconvert_exporter": "python",
   "pygments_lexer": "ipython3",
   "version": "3.10.11"
  }
 },
 "nbformat": 4,
 "nbformat_minor": 5
}

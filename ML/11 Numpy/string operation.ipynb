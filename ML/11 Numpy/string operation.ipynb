{
 "cells": [
  {
   "cell_type": "code",
   "execution_count": 1,
   "id": "e8fc9f1b-83f8-48d0-b8af-6af3576c1ed5",
   "metadata": {},
   "outputs": [],
   "source": [
    "import numpy as np"
   ]
  },
  {
   "cell_type": "code",
   "execution_count": 13,
   "id": "99b789ba-d7f4-45c3-9cb3-62f3df398c15",
   "metadata": {},
   "outputs": [],
   "source": [
    "s1='Shivam is my name .'\n",
    "s2='I love to play Guitar.'"
   ]
  },
  {
   "cell_type": "code",
   "execution_count": 11,
   "id": "a3ae23bc-4c5a-4af9-9de7-f697e98d52fd",
   "metadata": {},
   "outputs": [
    {
     "data": {
      "text/plain": [
       "array('Shivam is my name.I love to play Guitar.', dtype='<U40')"
      ]
     },
     "execution_count": 11,
     "metadata": {},
     "output_type": "execute_result"
    }
   ],
   "source": [
    "np.char.add(s1,s2)"
   ]
  },
  {
   "cell_type": "code",
   "execution_count": 7,
   "id": "e3c0a91c-c720-4db7-887a-73934ddd9b12",
   "metadata": {},
   "outputs": [
    {
     "data": {
      "text/plain": [
       "array('SHIVAM IS MY NAME.', dtype='<U18')"
      ]
     },
     "execution_count": 7,
     "metadata": {},
     "output_type": "execute_result"
    }
   ],
   "source": [
    "np.char.upper(s1)"
   ]
  },
  {
   "cell_type": "code",
   "execution_count": 10,
   "id": "baefb455-4a2e-4c26-a600-773191fa4364",
   "metadata": {},
   "outputs": [
    {
     "data": {
      "text/plain": [
       "array('i love to play guitar.', dtype='<U22')"
      ]
     },
     "execution_count": 10,
     "metadata": {},
     "output_type": "execute_result"
    }
   ],
   "source": [
    "np.char.lower(s2)"
   ]
  },
  {
   "cell_type": "code",
   "execution_count": 14,
   "id": "2e875731-acb9-4af1-966d-f334ac5730c6",
   "metadata": {},
   "outputs": [
    {
     "data": {
      "text/plain": [
       "array(list(['Shivam', 'is', 'my', 'name', '.']), dtype=object)"
      ]
     },
     "execution_count": 14,
     "metadata": {},
     "output_type": "execute_result"
    }
   ],
   "source": [
    "np.char.split(s1)"
   ]
  },
  {
   "cell_type": "code",
   "execution_count": 15,
   "id": "f2d08146-4c49-446d-85fe-4ecd2eeb1043",
   "metadata": {},
   "outputs": [],
   "source": [
    "s3='Hello everyone\\n How are you\\n Dont worry every thing will be fine. '"
   ]
  },
  {
   "cell_type": "code",
   "execution_count": 16,
   "id": "044d8381-ee56-4db3-ae5e-d98cf6bbd9fa",
   "metadata": {},
   "outputs": [
    {
     "data": {
      "text/plain": [
       "array(list(['Hello everyone', ' How are you', ' Dont worry every thing will be fine. ']),\n",
       "      dtype=object)"
      ]
     },
     "execution_count": 16,
     "metadata": {},
     "output_type": "execute_result"
    }
   ],
   "source": [
    "np.char.splitlines(s3)"
   ]
  },
  {
   "cell_type": "code",
   "execution_count": 17,
   "id": "0568e62e-aee6-4690-b93f-67b35d3bc349",
   "metadata": {},
   "outputs": [
    {
     "data": {
      "text/plain": [
       "array('I love to play Sitar.', dtype='<U21')"
      ]
     },
     "execution_count": 17,
     "metadata": {},
     "output_type": "execute_result"
    }
   ],
   "source": [
    "np.char.replace(s2,'Guitar','Sitar')"
   ]
  },
  {
   "cell_type": "code",
   "execution_count": 24,
   "id": "882f4b06-e6d4-4466-80f6-e35402bf3492",
   "metadata": {},
   "outputs": [
    {
     "data": {
      "text/plain": [
       "array('**Hi**', dtype='<U6')"
      ]
     },
     "execution_count": 24,
     "metadata": {},
     "output_type": "execute_result"
    }
   ],
   "source": [
    "np.char.center('Hi', 6,'*')"
   ]
  },
  {
   "cell_type": "code",
   "execution_count": null,
   "id": "2668486c-cc9f-4616-8df0-df3d9044c5ea",
   "metadata": {},
   "outputs": [],
   "source": []
  }
 ],
 "metadata": {
  "kernelspec": {
   "display_name": "Python 3 (ipykernel)",
   "language": "python",
   "name": "python3"
  },
  "language_info": {
   "codemirror_mode": {
    "name": "ipython",
    "version": 3
   },
   "file_extension": ".py",
   "mimetype": "text/x-python",
   "name": "python",
   "nbconvert_exporter": "python",
   "pygments_lexer": "ipython3",
   "version": "3.10.11"
  }
 },
 "nbformat": 4,
 "nbformat_minor": 5
}

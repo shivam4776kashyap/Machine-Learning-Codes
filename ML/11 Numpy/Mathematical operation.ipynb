{
 "cells": [
  {
   "cell_type": "code",
   "execution_count": 2,
   "id": "056b0321-246f-4899-b348-e8cf7cef4ed9",
   "metadata": {},
   "outputs": [],
   "source": [
    "import numpy as np"
   ]
  },
  {
   "cell_type": "code",
   "execution_count": 6,
   "id": "3951585f-9748-4104-a8ae-f8c7594bc9a8",
   "metadata": {},
   "outputs": [
    {
     "name": "stdout",
     "output_type": "stream",
     "text": [
      "[[1 2 3]\n",
      " [4 5 6]\n",
      " [7 8 9]]\n",
      "[[10 11 12]\n",
      " [13 14 15]\n",
      " [16 17 18]]\n"
     ]
    }
   ],
   "source": [
    "a=np.arange(1,10).reshape((3,3))\n",
    "b=np.arange(10,19).reshape((3,3))\n",
    "print(a)\n",
    "print(b)"
   ]
  },
  {
   "cell_type": "code",
   "execution_count": 7,
   "id": "1fa364a9-ee95-4907-bc34-ac36eeb675cb",
   "metadata": {},
   "outputs": [
    {
     "data": {
      "text/plain": [
       "array([[11, 13, 15],\n",
       "       [17, 19, 21],\n",
       "       [23, 25, 27]])"
      ]
     },
     "execution_count": 7,
     "metadata": {},
     "output_type": "execute_result"
    }
   ],
   "source": [
    "a+b # simple addition"
   ]
  },
  {
   "cell_type": "code",
   "execution_count": 8,
   "id": "359ae292-93e3-4fa5-a17a-da808562da05",
   "metadata": {},
   "outputs": [
    {
     "data": {
      "text/plain": [
       "array([[11, 13, 15],\n",
       "       [17, 19, 21],\n",
       "       [23, 25, 27]])"
      ]
     },
     "execution_count": 8,
     "metadata": {},
     "output_type": "execute_result"
    }
   ],
   "source": [
    "np.add(a,b)   #another way to do addition"
   ]
  },
  {
   "cell_type": "code",
   "execution_count": 9,
   "id": "cc06537d-a811-422d-8b2f-43e83f4d4b6f",
   "metadata": {},
   "outputs": [
    {
     "data": {
      "text/plain": [
       "array([[-9, -9, -9],\n",
       "       [-9, -9, -9],\n",
       "       [-9, -9, -9]])"
      ]
     },
     "execution_count": 9,
     "metadata": {},
     "output_type": "execute_result"
    }
   ],
   "source": [
    "a-b      #simple subtraction"
   ]
  },
  {
   "cell_type": "code",
   "execution_count": 11,
   "id": "91ddf988-ccf0-4f82-983e-4c26a971e47f",
   "metadata": {},
   "outputs": [
    {
     "data": {
      "text/plain": [
       "array([[-9, -9, -9],\n",
       "       [-9, -9, -9],\n",
       "       [-9, -9, -9]])"
      ]
     },
     "execution_count": 11,
     "metadata": {},
     "output_type": "execute_result"
    }
   ],
   "source": [
    "np.subtract(a,b)     "
   ]
  },
  {
   "cell_type": "code",
   "execution_count": 12,
   "id": "a20bf61c-6445-4597-a4f9-a8befb3d44cf",
   "metadata": {},
   "outputs": [
    {
     "data": {
      "text/plain": [
       "array([[ 10,  22,  36],\n",
       "       [ 52,  70,  90],\n",
       "       [112, 136, 162]])"
      ]
     },
     "execution_count": 12,
     "metadata": {},
     "output_type": "execute_result"
    }
   ],
   "source": [
    "a*b          # simple multiplication"
   ]
  },
  {
   "cell_type": "code",
   "execution_count": 13,
   "id": "570af446-b240-40d3-a226-209024d85bc7",
   "metadata": {},
   "outputs": [
    {
     "data": {
      "text/plain": [
       "array([[ 10,  22,  36],\n",
       "       [ 52,  70,  90],\n",
       "       [112, 136, 162]])"
      ]
     },
     "execution_count": 13,
     "metadata": {},
     "output_type": "execute_result"
    }
   ],
   "source": [
    "np.multiply(a,b)    "
   ]
  },
  {
   "cell_type": "code",
   "execution_count": 14,
   "id": "330e311e-784e-4e42-8772-a50aca30ae5f",
   "metadata": {},
   "outputs": [
    {
     "data": {
      "text/plain": [
       "array([[0.1       , 0.18181818, 0.25      ],\n",
       "       [0.30769231, 0.35714286, 0.4       ],\n",
       "       [0.4375    , 0.47058824, 0.5       ]])"
      ]
     },
     "execution_count": 14,
     "metadata": {},
     "output_type": "execute_result"
    }
   ],
   "source": [
    "a/b    # simple division"
   ]
  },
  {
   "cell_type": "code",
   "execution_count": 15,
   "id": "a436a23f-1d58-4a3b-894e-21d2954bcb7a",
   "metadata": {},
   "outputs": [
    {
     "data": {
      "text/plain": [
       "array([[0.1       , 0.18181818, 0.25      ],\n",
       "       [0.30769231, 0.35714286, 0.4       ],\n",
       "       [0.4375    , 0.47058824, 0.5       ]])"
      ]
     },
     "execution_count": 15,
     "metadata": {},
     "output_type": "execute_result"
    }
   ],
   "source": [
    "np.divide(a,b)"
   ]
  },
  {
   "cell_type": "code",
   "execution_count": 16,
   "id": "5147346a-17e4-4f36-b19f-94ba69ea8863",
   "metadata": {},
   "outputs": [
    {
     "data": {
      "text/plain": [
       "array([[ 84,  90,  96],\n",
       "       [201, 216, 231],\n",
       "       [318, 342, 366]])"
      ]
     },
     "execution_count": 16,
     "metadata": {},
     "output_type": "execute_result"
    }
   ],
   "source": [
    "a@b             # matrix multiplication"
   ]
  },
  {
   "cell_type": "code",
   "execution_count": 17,
   "id": "1fd343bd-6653-4430-bc4a-785af29c48ef",
   "metadata": {},
   "outputs": [
    {
     "data": {
      "text/plain": [
       "array([[ 84,  90,  96],\n",
       "       [201, 216, 231],\n",
       "       [318, 342, 366]])"
      ]
     },
     "execution_count": 17,
     "metadata": {},
     "output_type": "execute_result"
    }
   ],
   "source": [
    "a.dot(b)             # another way to represent matrix multiplication"
   ]
  },
  {
   "cell_type": "code",
   "execution_count": 20,
   "id": "8c788147-bd09-4dc0-933a-c14d57de8a1d",
   "metadata": {},
   "outputs": [
    {
     "data": {
      "text/plain": [
       "18"
      ]
     },
     "execution_count": 20,
     "metadata": {},
     "output_type": "execute_result"
    }
   ],
   "source": [
    "b.max()      # maximum element of all the element present in the matrix"
   ]
  },
  {
   "cell_type": "code",
   "execution_count": 21,
   "id": "3763ac77-03f3-48b2-a7e0-fefd9704a15d",
   "metadata": {},
   "outputs": [
    {
     "data": {
      "text/plain": [
       "10"
      ]
     },
     "execution_count": 21,
     "metadata": {},
     "output_type": "execute_result"
    }
   ],
   "source": [
    "b.min()          # minimum element of all the element present in the matrix"
   ]
  },
  {
   "cell_type": "code",
   "execution_count": 22,
   "id": "608bd6ce-da0b-4c46-a045-e69bf1d84bf2",
   "metadata": {},
   "outputs": [
    {
     "data": {
      "text/plain": [
       "8"
      ]
     },
     "execution_count": 22,
     "metadata": {},
     "output_type": "execute_result"
    }
   ],
   "source": [
    "b.argmax()       # it will tell the maximum element index in the matrix"
   ]
  },
  {
   "cell_type": "code",
   "execution_count": 23,
   "id": "b8243c50-2cd3-472b-a908-2506c2827eaa",
   "metadata": {},
   "outputs": [
    {
     "data": {
      "text/plain": [
       "45"
      ]
     },
     "execution_count": 23,
     "metadata": {},
     "output_type": "execute_result"
    }
   ],
   "source": [
    "np.sum(a)           # it will do the sum of all the element"
   ]
  },
  {
   "cell_type": "code",
   "execution_count": 24,
   "id": "00788e14-39cb-4e4c-b04e-9e7cba3ef8b0",
   "metadata": {},
   "outputs": [
    {
     "data": {
      "text/plain": [
       "array([12, 15, 18])"
      ]
     },
     "execution_count": 24,
     "metadata": {},
     "output_type": "execute_result"
    }
   ],
   "source": [
    "np.sum(a,axis=0)           # it will do the column addition "
   ]
  },
  {
   "cell_type": "code",
   "execution_count": 27,
   "id": "ca26f4db-6a8f-47d3-b1d2-0ff1be335ffc",
   "metadata": {},
   "outputs": [
    {
     "data": {
      "text/plain": [
       "array([ 6, 15, 24])"
      ]
     },
     "execution_count": 27,
     "metadata": {},
     "output_type": "execute_result"
    }
   ],
   "source": [
    "np.sum(a,axis=1)          # row addition"
   ]
  },
  {
   "cell_type": "code",
   "execution_count": 28,
   "id": "d87f9b00-d190-4b65-aba8-a9fb13d13cba",
   "metadata": {},
   "outputs": [
    {
     "data": {
      "text/plain": [
       "5.0"
      ]
     },
     "execution_count": 28,
     "metadata": {},
     "output_type": "execute_result"
    }
   ],
   "source": [
    "np.mean(a)             # mean of matrix "
   ]
  },
  {
   "cell_type": "code",
   "execution_count": 29,
   "id": "0d759a30-ea7f-4b4e-9ccc-7a19c896f386",
   "metadata": {},
   "outputs": [
    {
     "data": {
      "text/plain": [
       "array([[1.        , 1.41421356, 1.73205081],\n",
       "       [2.        , 2.23606798, 2.44948974],\n",
       "       [2.64575131, 2.82842712, 3.        ]])"
      ]
     },
     "execution_count": 29,
     "metadata": {},
     "output_type": "execute_result"
    }
   ],
   "source": [
    "np.sqrt(a)                 # it will do the square root of all elements of the matrix"
   ]
  },
  {
   "cell_type": "code",
   "execution_count": 30,
   "id": "08a18c04-2419-4a3d-912e-802aa3df9fd8",
   "metadata": {},
   "outputs": [
    {
     "data": {
      "text/plain": [
       "2.581988897471611"
      ]
     },
     "execution_count": 30,
     "metadata": {},
     "output_type": "execute_result"
    }
   ],
   "source": [
    "np.std(a)                # it is calculating the standard deviation of matrix"
   ]
  },
  {
   "cell_type": "code",
   "execution_count": 31,
   "id": "9eb9b61e-aac2-482a-9bf7-678a04d6e09d",
   "metadata": {},
   "outputs": [
    {
     "data": {
      "text/plain": [
       "array([[2.30258509, 2.39789527, 2.48490665],\n",
       "       [2.56494936, 2.63905733, 2.7080502 ],\n",
       "       [2.77258872, 2.83321334, 2.89037176]])"
      ]
     },
     "execution_count": 31,
     "metadata": {},
     "output_type": "execute_result"
    }
   ],
   "source": [
    "np.log(b)                   # it computing log values"
   ]
  },
  {
   "cell_type": "code",
   "execution_count": null,
   "id": "00ebcc28-183a-42fe-b962-9e4a26e58d94",
   "metadata": {},
   "outputs": [],
   "source": []
  },
  {
   "cell_type": "code",
   "execution_count": 15,
   "id": "3ad32248-bd61-4e0f-9980-ee102b1d99c3",
   "metadata": {},
   "outputs": [
    {
     "name": "stdout",
     "output_type": "stream",
     "text": [
      "[[1 2 3]\n",
      " [4 5 6]\n",
      " [7 8 9]]\n",
      "[1 2 3 4 5 6 7 8 9]\n",
      "[1 2 3 4 5 6 7 8 9]\n"
     ]
    }
   ],
   "source": [
    "# my work\n",
    "a=np.arange(1,10).reshape(3,3)\n",
    "print(a)\n",
    "b=a.flatten()\n",
    "print(b)\n",
    "c=a.ravel()\n",
    "print(c)"
   ]
  },
  {
   "cell_type": "code",
   "execution_count": 16,
   "id": "82963441-23ac-4487-bddf-b7937f1d5e36",
   "metadata": {},
   "outputs": [
    {
     "name": "stdout",
     "output_type": "stream",
     "text": [
      "Flattened array: [1 2 3 4 5 6]\n",
      "Raveled array: [1 2 3 4 5 6]\n",
      "Modified raveled array: [99  2  3  4  5  6]\n",
      "Original array after ravel modification: [[99  2  3]\n",
      " [ 4  5  6]]\n",
      "Modified flattened array: [88  2  3  4  5  6]\n",
      "Original array after flatten modification: [[99  2  3]\n",
      " [ 4  5  6]]\n"
     ]
    }
   ],
   "source": [
    "import numpy as np\n",
    "\n",
    "# Original array\n",
    "array = np.array([[1, 2, 3], [4, 5, 6]])\n",
    "\n",
    "# Using flatten\n",
    "flattened = array.flatten()\n",
    "print(\"Flattened array:\", flattened)\n",
    "\n",
    "# Using ravel\n",
    "raveled = np.ravel(array)\n",
    "print(\"Raveled array:\", raveled)\n",
    "\n",
    "# Modify the raveled array\n",
    "raveled[0] = 99\n",
    "\n",
    "print(\"Modified raveled array:\", raveled)\n",
    "print(\"Original array after ravel modification:\", array)\n",
    "\n",
    "# Modify the flattened array\n",
    "flattened[0] = 88\n",
    "\n",
    "print(\"Modified flattened array:\", flattened)\n",
    "print(\"Original array after flatten modification:\", array)\n"
   ]
  },
  {
   "cell_type": "code",
   "execution_count": null,
   "id": "6d9be3b2-ee3a-4931-9755-f9b7b07d3065",
   "metadata": {},
   "outputs": [],
   "source": []
  }
 ],
 "metadata": {
  "kernelspec": {
   "display_name": "Python 3 (ipykernel)",
   "language": "python",
   "name": "python3"
  },
  "language_info": {
   "codemirror_mode": {
    "name": "ipython",
    "version": 3
   },
   "file_extension": ".py",
   "mimetype": "text/x-python",
   "name": "python",
   "nbconvert_exporter": "python",
   "pygments_lexer": "ipython3",
   "version": "3.11.7"
  }
 },
 "nbformat": 4,
 "nbformat_minor": 5
}

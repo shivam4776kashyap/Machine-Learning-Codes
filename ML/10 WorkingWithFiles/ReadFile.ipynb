{
 "cells": [
  {
   "cell_type": "markdown",
   "id": "7ddbf062-e9b7-4181-af8c-ae38401a58b6",
   "metadata": {},
   "source": [
    "# Working with Text file"
   ]
  },
  {
   "cell_type": "code",
   "execution_count": null,
   "id": "83542e7c-ee59-4b8a-8b93-a1a5b8921807",
   "metadata": {},
   "outputs": [],
   "source": [
    "file_obj= open(r'C:\\Users\\parul\\coding ninjas\\ML\\1WorkingWithFiles\\sample.txt','r')#we can use 'w and a' for writing in to txt file and append into file\n",
    "file_data=file_obj.read() # read() will use to read whole data from file and file_data andr data store like this: \"DATA\"\n",
    "print(type(file_data))\n",
    "print(file_data)"
   ]
  },
  {
   "cell_type": "code",
   "execution_count": null,
   "id": "3b9a982d-692a-4e2f-9987-efcc33921b01",
   "metadata": {},
   "outputs": [],
   "source": [
    "file_obj= open(r'C:\\Users\\parul\\coding ninjas\\ML\\1WorkingWithFiles\\sample.txt','r')\n",
    "file_data=file_obj.read(50) # read(100) means 100 words/Bytes from file\n",
    "file_data"
   ]
  },
  {
   "cell_type": "code",
   "execution_count": null,
   "id": "7e89403d-03e3-4eb6-8d7a-b0b97cb73867",
   "metadata": {},
   "outputs": [],
   "source": [
    "file_obj= open(r'C:\\Users\\parul\\coding ninjas\\ML\\1WorkingWithFiles\\sample.txt','r')\n",
    "file_data=file_obj.readline() # So readline() will print upto 1 paragraph ends.and iss case mei bhi file_data ke andr bhi data 'string' form mei store \n",
    "print(type(file_data))                                                                                                                        #  hai\n",
    "print(file_obj.readline())"
   ]
  },
  {
   "cell_type": "code",
   "execution_count": null,
   "id": "95862944-e6d2-4c8c-bcdd-5ec6176514e8",
   "metadata": {},
   "outputs": [],
   "source": [
    "file_obj= open(r'C:\\Users\\parul\\coding ninjas\\ML\\1WorkingWithFiles\\sample.txt','r')\n",
    "file_data=file_obj.readline(33) # So readline(10000) is uses this min(n words,current_paragraph), jo bhi minimum hoge woh print ho jayega\n",
    "print(file_data)"
   ]
  },
  {
   "cell_type": "code",
   "execution_count": null,
   "id": "4fca1c9a-17af-41b5-a206-5fe3d1e84fc7",
   "metadata": {},
   "outputs": [],
   "source": [
    "file_obj= open(r'C:\\Users\\parul\\coding ninjas\\ML\\1WorkingWithFiles\\sample.txt','r')\n",
    "file_data=file_obj.readlines() #readlines() will make the all para/lines in to one list, and we can perform all the operations of list on it\n",
    "print(type(file_data))\n",
    "print(file_data)\n",
    "print(len(file_data))\n",
    "\n",
    "file_obj.close() ## it is a good programmer practice to close the text file, also after closing file we can use file_data to access file data.\n",
    "print(file_data[0])\n",
    "print(file_data[1])"
   ]
  },
  {
   "cell_type": "code",
   "execution_count": null,
   "id": "a0fde35a-9580-4c7e-b61f-7bd923caea38",
   "metadata": {},
   "outputs": [],
   "source": [
    "with open(r'C:\\Users\\parul\\coding ninjas\\ML\\1WorkingWithFiles\\sample.txt','r') as file_obj:\n",
    "    file_data= file_obj.readlines()\n",
    " # using with, means jesse hee with statement khatam our file will automatically get closed, so again it is a good practice use with\n",
    " # and all jo data hai file ka voh string format mei file_data ke andr store ho jayega.\n",
    "print(file_data)\n",
    "print(type(file_data))\n",
    "print(len(file_data))\n",
    "print(file_data[1])"
   ]
  },
  {
   "cell_type": "markdown",
   "id": "8984c690-7ef9-4a18-b481-d39e2415721c",
   "metadata": {},
   "source": []
  },
  {
   "cell_type": "markdown",
   "id": "af024f8e-e9a3-40df-9d11-c5f7a6f5ed76",
   "metadata": {},
   "source": [
    "# WOrking with CSV file (comma separated value)"
   ]
  },
  {
   "cell_type": "code",
   "execution_count": null,
   "id": "d565764c-5c83-4a21-a840-34fa2ae0c430",
   "metadata": {},
   "outputs": [],
   "source": [
    "with open(r'C:\\Users\\parul\\coding ninjas\\ML\\1WorkingWithFiles\\year2017.csv','r') as file_obj:\n",
    "    file_data=file_obj.readlines()\n",
    "\n",
    "print(type(file_data))\n",
    "print(file_data[:5])\n"
   ]
  },
  {
   "cell_type": "code",
   "execution_count": null,
   "id": "bd40a91d-45df-4e5a-b9a3-2a3c991a9297",
   "metadata": {},
   "outputs": [],
   "source": [
    "with open(r'C:\\Users\\parul\\coding ninjas\\ML\\1WorkingWithFiles\\year2017.csv','r') as file_obj:\n",
    "    file_data=file_obj.readlines() # iss case mei rows, list mei store ho jayegi : ['row1','row2',row3,...] and rows entries: '1,2,3,...'\n",
    "\n",
    "print(type(file_data))\n",
    "for i in file_data[:5]:\n",
    "    print(i)"
   ]
  },
  {
   "cell_type": "code",
   "execution_count": null,
   "id": "2c0631ed-cda5-4bc6-8a8b-f14cb18b2635",
   "metadata": {},
   "outputs": [],
   "source": [
    "import csv\n",
    "with open(r'C:\\Users\\parul\\coding ninjas\\ML\\1WorkingWithFiles\\year2017.csv','r') as file_obj:\n",
    "    file_data=csv.reader(file_obj) # using csv, file_data ke andr data iss therah store hai: [[row1] [row2].....[row10000]]\n",
    "    for row in file_data:\n",
    "        print(row)\n",
    "print(type(file_data))\n",
    "# print(file_data)"
   ]
  },
  {
   "cell_type": "code",
   "execution_count": null,
   "id": "6bc651bb-a1f3-4abf-bda1-fe752a412422",
   "metadata": {},
   "outputs": [],
   "source": [
    "#my work\n",
    "\n",
    "with open(r'C:\\Users\\parul\\coding ninjas\\ML\\1WorkingWithFiles\\test.csv','r') as file_obj:\n",
    "    file_data=file_obj.readlines()\n",
    "\n",
    "print(type(file_data))\n",
    "# print(file_data)\n"
   ]
  },
  {
   "cell_type": "markdown",
   "id": "1f4ab160-4298-4444-b459-a886c3d18a41",
   "metadata": {},
   "source": [
    "# Total people killed in 2017"
   ]
  },
  {
   "cell_type": "code",
   "execution_count": 18,
   "id": "e6994bf7-abd1-4a9a-b880-4a737b662ac9",
   "metadata": {},
   "outputs": [
    {
     "name": "stdout",
     "output_type": "stream",
     "text": [
      "[['Year', 'Month', 'Day', 'Country', 'Region', 'city', 'latitude', 'longitude', 'AttackType', 'Killed'], ['2017', '1', '2', 'Afghanistan', 'South Asia', 'Takhta Pul', '31.320556', '65.961111', 'Hostage Taking (Kidnapping)', '0'], ['2017', '1', '3', 'Sudan', 'Sub-Saharan Africa', 'Fantaga', '12.921007', '24.318324', 'Armed Assault', '2'], ['2017', '1', '1', 'Democratic Republic of the Congo', 'Sub-Saharan Africa', 'Saboko', '1.452372', '29.875162', 'Armed Assault', '7'], ['2017', '1', '1', 'Democratic Republic of the Congo', 'Sub-Saharan Africa', 'Bialee', '1.45237', '29.875186', 'Armed Assault', '7'], ['2017', '1', '1', 'Turkey', 'Middle East & North Africa', 'Istanbul', '41.106178', '28.689863', 'Armed Assault', '39'], ['2017', '1', '1', 'Syria', 'Middle East & North Africa', 'Tartus', '34.895928', '35.886652', 'Bombing/Explosion', '4'], ['2017', '1', '1', 'Pakistan', 'South Asia', 'Niaag Bandar', '34.824085', '71.382386', 'Bombing/Explosion', '1'], ['2017', '1', '1', 'Italy', 'Western Europe', 'Florence', '43.76956', '11.255814', 'Bombing/Explosion', '0'], ['2017', '1', '1', 'Turkey', 'Middle East & North Africa', 'Cinar', '37.724137', '40.413484', 'Bombing/Explosion', '0'], ['2017', '1', '1', 'Turkey', 'Middle East & North Africa', 'Istanbul', '41.106178', '28.689863', 'Armed Assault', '0'], ['2017', '1', '1', 'Somalia', 'Sub-Saharan Africa', 'Luq district', '3.798013', '42.544463', 'Armed Assault', '3'], ['2017', '1', '1', 'Pakistan', 'South Asia', 'Nurar', '32.90382', '70.535789', 'Bombing/Explosion', '0'], ['2017', '1', '1', 'Yemen', 'Middle East & North Africa', 'Taizz', '13.586484', '44.024105', 'Bombing/Explosion', '3'], ['2017', '1', '1', 'Afghanistan', 'South Asia', 'Herat', '34.346722', '62.197315', 'Bombing/Explosion', '1'], ['2017', '1', '1', 'Bahrain', 'Middle East & North Africa', 'Jaww', '26', '50.616667', 'Armed Assault', '1'], ['2017', '1', '1', 'Myanmar', 'Southeast Asia', 'Minbya', '20.366728', '93.266651', 'Bombing/Explosion', '0'], ['2017', '1', '1', 'Afghanistan', 'South Asia', 'Marjah', '31.467463', '64.092445', 'Unknown', ''], ['2017', '1', '1', 'Afghanistan', 'South Asia', 'Sangin', '32.071931', '64.838837', 'Unknown', '4'], ['2017', '1', '1', 'Afghanistan', 'South Asia', 'Chishti Sharif district', '34.34013', '63.75288', 'Hostage Taking (Kidnapping)', '']]\n"
     ]
    }
   ],
   "source": [
    "import csv\n",
    "with open(r'C:\\Users\\parul\\coding ninjas\\ML\\1WorkingWithFiles\\test.csv','r') as file_obj:\n",
    "    file_data= csv.reader(file_obj)\n",
    "    file_list=  list(file_data)\n",
    "print(file_list)"
   ]
  },
  {
   "cell_type": "code",
   "execution_count": 10,
   "id": "e301d7a5-3481-49aa-947a-8adc2a9c7063",
   "metadata": {},
   "outputs": [
    {
     "name": "stdout",
     "output_type": "stream",
     "text": [
      "72\n",
      "[0, 2, 7, 7, 39, 4, 1, 0, 0, 0, 3, 0, 3, 1, 1, 0, 4]\n"
     ]
    }
   ],
   "source": [
    "# Calculating the Total of Column Killed\n",
    "import csv\n",
    "with open(r'C:\\Users\\parul\\coding ninjas\\ML\\1WorkingWithFiles\\test.csv') as file_obj:\n",
    "    file_data= csv.reader(file_obj, skipinitialspace=True)\n",
    "    file_list=  list(file_data)\n",
    "killed=[]\n",
    "for row in file_list[1:]:\n",
    "    val=row[9]\n",
    "    if val != '':\n",
    "        killed.append(int(val))\n",
    "\n",
    "print(sum(killed))\n",
    "print(killed)\n"
   ]
  },
  {
   "cell_type": "markdown",
   "id": "28d768e3-cef7-4f35-afda-2082a734dc4f",
   "metadata": {},
   "source": [
    "# Dictionary Reader function"
   ]
  },
  {
   "cell_type": "code",
   "execution_count": 22,
   "id": "9a0cb50e-d3d2-4678-b7b5-54b2e2a22908",
   "metadata": {},
   "outputs": [
    {
     "name": "stdout",
     "output_type": "stream",
     "text": [
      "{'Year': '2017', 'Month': '1', 'Day': '2', 'Country': 'Afghanistan', 'Region': 'South Asia', 'city': 'Takhta Pul', 'latitude': '31.320556', 'longitude': '65.961111', 'AttackType': 'Hostage Taking (Kidnapping)', 'Killed': '0'}\n",
      "{'Year': '2017', 'Month': '1', 'Day': '3', 'Country': 'Sudan', 'Region': 'Sub-Saharan Africa', 'city': 'Fantaga', 'latitude': '12.921007', 'longitude': '24.318324', 'AttackType': 'Armed Assault', 'Killed': '2'}\n",
      "{'Year': '2017', 'Month': '1', 'Day': '1', 'Country': 'Democratic Republic of the Congo', 'Region': 'Sub-Saharan Africa', 'city': 'Saboko', 'latitude': '1.452372', 'longitude': '29.875162', 'AttackType': 'Armed Assault', 'Killed': '7'}\n",
      "{'Year': '2017', 'Month': '1', 'Day': '1', 'Country': 'Democratic Republic of the Congo', 'Region': 'Sub-Saharan Africa', 'city': 'Bialee', 'latitude': '1.45237', 'longitude': '29.875186', 'AttackType': 'Armed Assault', 'Killed': '7'}\n",
      "{'Year': '2017', 'Month': '1', 'Day': '1', 'Country': 'Turkey', 'Region': 'Middle East & North Africa', 'city': 'Istanbul', 'latitude': '41.106178', 'longitude': '28.689863', 'AttackType': 'Armed Assault', 'Killed': '39'}\n",
      "{'Year': '2017', 'Month': '1', 'Day': '1', 'Country': 'Syria', 'Region': 'Middle East & North Africa', 'city': 'Tartus', 'latitude': '34.895928', 'longitude': '35.886652', 'AttackType': 'Bombing/Explosion', 'Killed': '4'}\n",
      "{'Year': '2017', 'Month': '1', 'Day': '1', 'Country': 'Pakistan', 'Region': 'South Asia', 'city': 'Niaag Bandar', 'latitude': '34.824085', 'longitude': '71.382386', 'AttackType': 'Bombing/Explosion', 'Killed': '1'}\n",
      "{'Year': '2017', 'Month': '1', 'Day': '1', 'Country': 'Italy', 'Region': 'Western Europe', 'city': 'Florence', 'latitude': '43.76956', 'longitude': '11.255814', 'AttackType': 'Bombing/Explosion', 'Killed': '0'}\n",
      "{'Year': '2017', 'Month': '1', 'Day': '1', 'Country': 'Turkey', 'Region': 'Middle East & North Africa', 'city': 'Cinar', 'latitude': '37.724137', 'longitude': '40.413484', 'AttackType': 'Bombing/Explosion', 'Killed': '0'}\n",
      "{'Year': '2017', 'Month': '1', 'Day': '1', 'Country': 'Turkey', 'Region': 'Middle East & North Africa', 'city': 'Istanbul', 'latitude': '41.106178', 'longitude': '28.689863', 'AttackType': 'Armed Assault', 'Killed': '0'}\n",
      "{'Year': '2017', 'Month': '1', 'Day': '1', 'Country': 'Somalia', 'Region': 'Sub-Saharan Africa', 'city': 'Luq district', 'latitude': '3.798013', 'longitude': '42.544463', 'AttackType': 'Armed Assault', 'Killed': '3'}\n",
      "{'Year': '2017', 'Month': '1', 'Day': '1', 'Country': 'Pakistan', 'Region': 'South Asia', 'city': 'Nurar', 'latitude': '32.90382', 'longitude': '70.535789', 'AttackType': 'Bombing/Explosion', 'Killed': '0'}\n",
      "{'Year': '2017', 'Month': '1', 'Day': '1', 'Country': 'Yemen', 'Region': 'Middle East & North Africa', 'city': 'Taizz', 'latitude': '13.586484', 'longitude': '44.024105', 'AttackType': 'Bombing/Explosion', 'Killed': '3'}\n",
      "{'Year': '2017', 'Month': '1', 'Day': '1', 'Country': 'Afghanistan', 'Region': 'South Asia', 'city': 'Herat', 'latitude': '34.346722', 'longitude': '62.197315', 'AttackType': 'Bombing/Explosion', 'Killed': '1'}\n",
      "{'Year': '2017', 'Month': '1', 'Day': '1', 'Country': 'Bahrain', 'Region': 'Middle East & North Africa', 'city': 'Jaww', 'latitude': '26', 'longitude': '50.616667', 'AttackType': 'Armed Assault', 'Killed': '1'}\n",
      "{'Year': '2017', 'Month': '1', 'Day': '1', 'Country': 'Myanmar', 'Region': 'Southeast Asia', 'city': 'Minbya', 'latitude': '20.366728', 'longitude': '93.266651', 'AttackType': 'Bombing/Explosion', 'Killed': '0'}\n",
      "{'Year': '2017', 'Month': '1', 'Day': '1', 'Country': 'Afghanistan', 'Region': 'South Asia', 'city': 'Marjah', 'latitude': '31.467463', 'longitude': '64.092445', 'AttackType': 'Unknown', 'Killed': ''}\n",
      "{'Year': '2017', 'Month': '1', 'Day': '1', 'Country': 'Afghanistan', 'Region': 'South Asia', 'city': 'Sangin', 'latitude': '32.071931', 'longitude': '64.838837', 'AttackType': 'Unknown', 'Killed': '4'}\n",
      "{'Year': '2017', 'Month': '1', 'Day': '1', 'Country': 'Afghanistan', 'Region': 'South Asia', 'city': 'Chishti Sharif district', 'latitude': '34.34013', 'longitude': '63.75288', 'AttackType': 'Hostage Taking (Kidnapping)', 'Killed': ''}\n"
     ]
    }
   ],
   "source": [
    "import csv\n",
    "\n",
    "with open(r'C:\\Users\\parul\\coding ninjas\\ML\\1WorkingWithFiles\\test.csv') as file_obj :\n",
    "    file_data = csv.DictReader(file_obj, skipinitialspace = True)\n",
    "    for row in file_data :\n",
    "        print(row)"
   ]
  },
  {
   "cell_type": "code",
   "execution_count": 14,
   "id": "718ae10a-67c0-48d4-9425-941ed543f5bd",
   "metadata": {},
   "outputs": [
    {
     "name": "stdout",
     "output_type": "stream",
     "text": [
      "{'a': 'Year', 'b': 'Month', 'c': 'Day', None: ['Country', 'Region', 'city', 'latitude', 'longitude', 'AttackType', 'Killed']}\n",
      "{'a': '2017', 'b': '1', 'c': '2', None: ['Afghanistan', 'South Asia', 'Takhta Pul', '31.320556', '65.961111', 'Hostage Taking (Kidnapping)', '0']}\n",
      "{'a': '2017', 'b': '1', 'c': '3', None: ['Sudan', 'Sub-Saharan Africa', 'Fantaga', '12.921007', '24.318324', 'Armed Assault', '2']}\n",
      "{'a': '2017', 'b': '1', 'c': '1', None: ['Democratic Republic of the Congo', 'Sub-Saharan Africa', 'Saboko', '1.452372', '29.875162', 'Armed Assault', '7']}\n",
      "{'a': '2017', 'b': '1', 'c': '1', None: ['Democratic Republic of the Congo', 'Sub-Saharan Africa', 'Bialee', '1.45237', '29.875186', 'Armed Assault', '7']}\n",
      "{'a': '2017', 'b': '1', 'c': '1', None: ['Turkey', 'Middle East & North Africa', 'Istanbul', '41.106178', '28.689863', 'Armed Assault', '39']}\n",
      "{'a': '2017', 'b': '1', 'c': '1', None: ['Syria', 'Middle East & North Africa', 'Tartus', '34.895928', '35.886652', 'Bombing/Explosion', '4']}\n",
      "{'a': '2017', 'b': '1', 'c': '1', None: ['Pakistan', 'South Asia', 'Niaag Bandar', '34.824085', '71.382386', 'Bombing/Explosion', '1']}\n",
      "{'a': '2017', 'b': '1', 'c': '1', None: ['Italy', 'Western Europe', 'Florence', '43.76956', '11.255814', 'Bombing/Explosion', '0']}\n",
      "{'a': '2017', 'b': '1', 'c': '1', None: ['Turkey', 'Middle East & North Africa', 'Cinar', '37.724137', '40.413484', 'Bombing/Explosion', '0']}\n",
      "{'a': '2017', 'b': '1', 'c': '1', None: ['Turkey', 'Middle East & North Africa', 'Istanbul', '41.106178', '28.689863', 'Armed Assault', '0']}\n",
      "{'a': '2017', 'b': '1', 'c': '1', None: ['Somalia', 'Sub-Saharan Africa', 'Luq district', '3.798013', '42.544463', 'Armed Assault', '3']}\n",
      "{'a': '2017', 'b': '1', 'c': '1', None: ['Pakistan', 'South Asia', 'Nurar', '32.90382', '70.535789', 'Bombing/Explosion', '0']}\n",
      "{'a': '2017', 'b': '1', 'c': '1', None: ['Yemen', 'Middle East & North Africa', 'Taizz', '13.586484', '44.024105', 'Bombing/Explosion', '3']}\n",
      "{'a': '2017', 'b': '1', 'c': '1', None: ['Afghanistan', 'South Asia', 'Herat', '34.346722', '62.197315', 'Bombing/Explosion', '1']}\n",
      "{'a': '2017', 'b': '1', 'c': '1', None: ['Bahrain', 'Middle East & North Africa', 'Jaww', '26', '50.616667', 'Armed Assault', '1']}\n",
      "{'a': '2017', 'b': '1', 'c': '1', None: ['Myanmar', 'Southeast Asia', 'Minbya', '20.366728', '93.266651', 'Bombing/Explosion', '0']}\n",
      "{'a': '2017', 'b': '1', 'c': '1', None: ['Afghanistan', 'South Asia', 'Marjah', '31.467463', '64.092445', 'Unknown', '']}\n",
      "{'a': '2017', 'b': '1', 'c': '1', None: ['Afghanistan', 'South Asia', 'Sangin', '32.071931', '64.838837', 'Unknown', '4']}\n",
      "{'a': '2017', 'b': '1', 'c': '1', None: ['Afghanistan', 'South Asia', 'Chishti Sharif district', '34.34013', '63.75288', 'Hostage Taking (Kidnapping)', '']}\n"
     ]
    }
   ],
   "source": [
    "import csv\n",
    "\n",
    "with open(r'C:\\Users\\parul\\coding ninjas\\ML\\1WorkingWithFiles\\test.csv') as file_obj :\n",
    "    file_data = csv.DictReader(file_obj, skipinitialspace = True,fieldnames=['a','b','c'])\n",
    "    \n",
    "    for row in file_data :\n",
    "        print(row)"
   ]
  },
  {
   "cell_type": "code",
   "execution_count": 16,
   "id": "345d3dde-c80e-4aba-91d8-f0ac7a9598a9",
   "metadata": {},
   "outputs": [
    {
     "name": "stdout",
     "output_type": "stream",
     "text": [
      "Hostage Taking (Kidnapping)\n",
      "Armed Assault\n",
      "Armed Assault\n",
      "Armed Assault\n",
      "Armed Assault\n",
      "Bombing/Explosion\n",
      "Bombing/Explosion\n",
      "Bombing/Explosion\n",
      "Bombing/Explosion\n",
      "Armed Assault\n",
      "Armed Assault\n",
      "Bombing/Explosion\n",
      "Bombing/Explosion\n",
      "Bombing/Explosion\n",
      "Armed Assault\n",
      "Bombing/Explosion\n",
      "Unknown\n",
      "Unknown\n",
      "Hostage Taking (Kidnapping)\n"
     ]
    }
   ],
   "source": [
    "import csv\n",
    "\n",
    "with open(r'C:\\Users\\parul\\coding ninjas\\ML\\1WorkingWithFiles\\test.csv') as file_obj :\n",
    "    file_data = csv.DictReader(file_obj, skipinitialspace = True)\n",
    "    \n",
    "    for row in file_data :\n",
    "        print(row['AttackType'])"
   ]
  },
  {
   "cell_type": "code",
   "execution_count": 27,
   "id": "e7ba22ee-f272-473f-a9b9-a344985b8436",
   "metadata": {},
   "outputs": [
    {
     "data": {
      "text/plain": [
       "{'Afghanistan': 5,\n",
       " 'Sudan': 2,\n",
       " 'Democratic Republic of the Congo': 14,\n",
       " 'Turkey': 39,\n",
       " 'Syria': 4,\n",
       " 'Pakistan': 1,\n",
       " 'Italy': 0,\n",
       " 'Somalia': 3,\n",
       " 'Yemen': 3,\n",
       " 'Bahrain': 1,\n",
       " 'Myanmar': 0}"
      ]
     },
     "execution_count": 27,
     "metadata": {},
     "output_type": "execute_result"
    }
   ],
   "source": [
    "import csv\n",
    "\n",
    "with open(r'C:\\Users\\parul\\coding ninjas\\ML\\1WorkingWithFiles\\test.csv') as file_obj :\n",
    "    file_data = csv.DictReader(file_obj, skipinitialspace = True)\n",
    "    file_list=list(file_data)\n",
    "killed={}\n",
    "for row in file_list:\n",
    "    key=row['Country']\n",
    "    value=row['Killed']\n",
    "    if value!='':\n",
    "        value=int(float(value))\n",
    "    else:\n",
    "        value=0\n",
    "    if key in killed:\n",
    "        killed[key]=killed[key]+value\n",
    "    else:\n",
    "        killed[key]=value  # adding new country to killed dictionary\n",
    "        \n",
    "\n",
    "killed"
   ]
  },
  {
   "cell_type": "code",
   "execution_count": null,
   "id": "8b689941-5cc7-464b-988c-354a35e304f8",
   "metadata": {},
   "outputs": [],
   "source": []
  },
  {
   "cell_type": "code",
   "execution_count": 26,
   "id": "071f99f8-dbca-49bd-9048-8437aa406c25",
   "metadata": {},
   "outputs": [
    {
     "data": {
      "text/plain": [
       "{1: 2, 3: 4, 5: 6}"
      ]
     },
     "execution_count": 26,
     "metadata": {},
     "output_type": "execute_result"
    }
   ],
   "source": [
    "dict={1:2,3:4}\n",
    "if 9 in dict:\n",
    "    print(\"hello\")\n",
    "else:\n",
    "    dict[5]=6\n",
    "\n",
    "dict"
   ]
  },
  {
   "cell_type": "code",
   "execution_count": null,
   "id": "5daa80c3-3c40-402c-bca1-395df0872f0f",
   "metadata": {},
   "outputs": [],
   "source": []
  }
 ],
 "metadata": {
  "kernelspec": {
   "display_name": "Python 3 (ipykernel)",
   "language": "python",
   "name": "python3"
  },
  "language_info": {
   "codemirror_mode": {
    "name": "ipython",
    "version": 3
   },
   "file_extension": ".py",
   "mimetype": "text/x-python",
   "name": "python",
   "nbconvert_exporter": "python",
   "pygments_lexer": "ipython3",
   "version": "3.11.7"
  }
 },
 "nbformat": 4,
 "nbformat_minor": 5
}
